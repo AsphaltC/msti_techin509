{
 "cells": [
  {
   "cell_type": "markdown",
   "id": "6de84a61-82a8-41be-b91b-8618dec2dcf6",
   "metadata": {},
   "source": [
    "# [TECHIN509] Week 2: Lab Submission\n",
    "\n",
    "* Author: Cheng-Hsi (Ian) Yang\n",
    "* Student ID: 2220015\n",
    "* Email: ianyang@uw.edu"
   ]
  },
  {
   "cell_type": "code",
   "execution_count": null,
   "id": "798f4ea3-9eb8-454c-a95d-74356578f9fa",
   "metadata": {},
   "outputs": [],
   "source": []
  }
 ],
 "metadata": {
  "kernelspec": {
   "display_name": "Python 3",
   "language": "python",
   "name": "python3"
  },
  "language_info": {
   "codemirror_mode": {
    "name": "ipython",
    "version": 3
   },
   "file_extension": ".py",
   "mimetype": "text/x-python",
   "name": "python",
   "nbconvert_exporter": "python",
   "pygments_lexer": "ipython3",
   "version": "3.8.8"
  }
 },
 "nbformat": 4,
 "nbformat_minor": 5
}
