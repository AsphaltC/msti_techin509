{
 "cells": [
  {
   "cell_type": "markdown",
   "id": "6de84a61-82a8-41be-b91b-8618dec2dcf6",
   "metadata": {},
   "source": [
    "# [TECHIN509] Week 2: Lab Submission\n",
    "\n",
    "* Author: Cheng-Hsi (Ian) Yang\n",
    "* Student ID: 2220015\n",
    "* Email: ianyang@uw.edu"
   ]
  },
  {
   "cell_type": "markdown",
   "id": "56a9a391-da2f-4e97-97ef-c9c57388c423",
   "metadata": {},
   "source": [
    "## 1. FizzBuzz\n",
    "Write a program that prints the numbers from 1 to 100.<br>\n",
    "But for multiples of three print “Fizz” instead of the number and for the multiples of five print “Buzz”.<br>\n",
    "For numbers which are multiples of both three and five print “FizzBuzz”."
   ]
  },
  {
   "cell_type": "code",
   "execution_count": null,
   "id": "7bfef28c-beec-4e4e-8f53-4da3afc6ad10",
   "metadata": {},
   "outputs": [],
   "source": [
    "for i in range(1, 101):\n",
    "    if i % 3 == 0 and i % 5 == 0: # print \"FizzBuzz\" if i is a multiple of both three and five\n",
    "        print(\"FizzBuzz\")\n",
    "    elif i % 3 == 0: # print \"FizzBuzz\" if i is a multiple of three\n",
    "        print(\"Fizz\")\n",
    "    elif i % 5 == 0: # print \"FizzBuzz\" if i is a multiple of five\n",
    "        print(\"Buzz\")\n",
    "    else:\n",
    "        print(i)"
   ]
  },
  {
   "cell_type": "code",
   "execution_count": 105,
   "id": "13ca0e8c-c85a-4588-8159-a23243fee13e",
   "metadata": {},
   "outputs": [],
   "source": []
  },
  {
   "cell_type": "code",
   "execution_count": 110,
   "id": "7cf32ed0-5a5b-4f33-931a-170930792930",
   "metadata": {},
   "outputs": [],
   "source": []
  }
 ],
 "metadata": {
  "kernelspec": {
   "display_name": "Python 3",
   "language": "python",
   "name": "python3"
  },
  "language_info": {
   "codemirror_mode": {
    "name": "ipython",
    "version": 3
   },
   "file_extension": ".py",
   "mimetype": "text/x-python",
   "name": "python",
   "nbconvert_exporter": "python",
   "pygments_lexer": "ipython3",
   "version": "3.8.8"
  }
 },
 "nbformat": 4,
 "nbformat_minor": 5
}
