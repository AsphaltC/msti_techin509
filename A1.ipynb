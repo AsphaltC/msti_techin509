{
 "cells": [
  {
   "cell_type": "markdown",
   "id": "6c0b1309-7af7-4361-961b-c25f7c94c51d",
   "metadata": {},
   "source": [
    "# [TECHIN509] Week 1: In-Class Assignment Notebook Submission\n",
    "\n",
    "* Author: Cheng-Hsi (Ian) Yang\n",
    "* Student ID: 2220015\n",
    "* Email: ianyang@uw.edu"
   ]
  },
  {
   "cell_type": "markdown",
   "id": "7d7bf0ce-82c4-44d4-a2c6-b2689f12dd0b",
   "metadata": {},
   "source": [
    "## Inspiration\n",
    "As a foreign student that has never lived the American life, there has been a lot to take in ever since my arrival in late September. In particular, the ***imperial system of units*** has been more than difficult to cope with personally. I have decided to use this opportunity to familiarize myself with it. Hopefully, by walking through most that people use in their daily lives with functions, I will have less of a headache judging if it is a good deal next time I go for grocers."
   ]
  },
  {
   "cell_type": "markdown",
   "id": "59ea3761-c04f-4260-a5cc-cc0c72981172",
   "metadata": {},
   "source": [
    "## Weight Units\n",
    "1. An **ounce (oz)** is **1/16 pound**. It is now connected with the metric system, and is defined as ***28.349523125 g***.\n",
    "2. A pound (lb) is also now connected with the metric system, and is definted ***0.45359237 kg***.\n",
    "3. It is worth noting that a ton (t) is different from the metric tonne, though very close in weight.\n",
    "\n",
    "The most common problem that I encounter is the unit conversion from kilogram to pound, which can be done through the following function:"
   ]
  },
  {
   "cell_type": "code",
   "execution_count": 5,
   "id": "3cf27cd8-4cdc-48f5-8b49-fef03ef09263",
   "metadata": {},
   "outputs": [],
   "source": [
    "def kg_to_lb (kg_value: float) -> float:\n",
    "    return round(kg_value / 0.45359237, 2)\n",
    "\n",
    "def lb_to_kg (lb_value: float) -> float:\n",
    "    return round(lb_value * 0.45359237, 2)"
   ]
  },
  {
   "cell_type": "markdown",
   "id": "b39bfa87-80f5-4903-a34c-74ce7ab39d40",
   "metadata": {},
   "source": [
    "The functions produce the value in pound, and round the result to *two* decimal places for a better viewing experience. For example, now we can look up the profile of Lebron James ([link](https://www.nba.com/player/2544/lebron-james)) on the NBA's website. His weight is recorded as 250lb. we can verify our program by doing the following:"
   ]
  },
  {
   "cell_type": "code",
   "execution_count": 7,
   "id": "16960da4-a086-43ae-bf1d-f641bbc4c2e9",
   "metadata": {},
   "outputs": [
    {
     "name": "stdout",
     "output_type": "stream",
     "text": [
      "Lebron James weights 113.4 kilograms\n"
     ]
    }
   ],
   "source": [
    "print(\"Lebron James weights \" + str(lb_to_kg(250))+ \" kilograms\")"
   ]
  },
  {
   "cell_type": "markdown",
   "id": "472b0ad3-032b-470d-b34e-ba79ece304d6",
   "metadata": {},
   "source": [
    "## Length Units"
   ]
  },
  {
   "cell_type": "markdown",
   "id": "aa71fbbd-a24a-4d02-a470-ee991d80e457",
   "metadata": {},
   "source": [
    "The basis of length units seems to be *feet*. These are the common units that I was exposed to:\n",
    "1. An **inch (in)** is **1/12 feet**, which has been connected to metric system and defined *0.0254* meters (*2.54* cm).\n",
    "2. A foot (ft) is now connected to the metric system and defined as 0.3048 meters (*30.48* cm).\n",
    "3. A **yard (yd)** is **3 feet**.\n",
    "4. A **mile (mi)** is **5280 feet**, which is *1609.344* meters.\n",
    "\n",
    "Here, I have produced the function to convert height in metric system to imperial, and vice versa:"
   ]
  },
  {
   "cell_type": "code",
   "execution_count": 21,
   "id": "d6d15b36-19b1-4a73-bb40-5559ed92bdc8",
   "metadata": {},
   "outputs": [],
   "source": [
    "def imperial_height (cm: float) -> (int, int):\n",
    "    feet = cm // 30.48\n",
    "    inch = cm % 30.48 // 2.54\n",
    "    return int(feet), int(inch)\n",
    "\n",
    "def metric_height (feet: int, inch: int) -> float:\n",
    "    return round(feet * 30.48 + inch * 2.54, 2)"
   ]
  },
  {
   "cell_type": "markdown",
   "id": "d68317a4-1e18-40b1-9f22-4082a2c11e3c",
   "metadata": {},
   "source": [
    "Taking Lebron James as an example again, he stands a whopping 206 centimeters in height. This should be:"
   ]
  },
  {
   "cell_type": "code",
   "execution_count": 23,
   "id": "d1b20e5b-f3da-447b-8062-4dffb3e1e6f0",
   "metadata": {},
   "outputs": [
    {
     "name": "stdout",
     "output_type": "stream",
     "text": [
      "6 feet, 9inches\n"
     ]
    }
   ],
   "source": [
    "print(str(imperial_height(206)[0]) + \" feet, \" + str (imperial_height(206)[1]) + \"inches\")"
   ]
  },
  {
   "cell_type": "markdown",
   "id": "92d8fc49-fedb-4ea9-9b02-33be7bb27318",
   "metadata": {},
   "source": [
    "## Volume Units\n",
    "The basis of length units seems to be *pint*. These are the common units that I was exposed to:\n",
    "1. A **fluid ounce (fl oz)** is **1/20 pint**. It is now connected to metric system and defined as *28.4130625* ml.\n",
    "2. A pint (pt) is now connected to metric and defined as ***568.26125 ml***.\n",
    "3. A **quart (qt)** is **2 pints**.\n",
    "4. A **gallon** is **8 pints**, which is *4.54609* liters.\n",
    "\n",
    "So far, I still have not encounter a situation that I would want to convert a volume in imperial units to metric. Although I do not feel particularly inspired to write functions for volume unit conversions. Information in this section would surely come in handy at times."
   ]
  },
  {
   "cell_type": "markdown",
   "id": "4a4d0b9d-9ee9-4586-89c2-5425eb9faf15",
   "metadata": {},
   "source": [
    "## Temperature Unit\n",
    "In the United States, the Fahrenheit scale is used, other than Celsius. The relation between the two can be expressed as:<br>\n",
    "<center>$\\displaystyle°F = \\frac{9}{5}(°C) + 32$<\\center>"
   ]
  },
  {
   "cell_type": "code",
   "execution_count": 1,
   "id": "b1fe7678-11cd-43b5-a741-3b29bf11e0fe",
   "metadata": {},
   "outputs": [],
   "source": [
    "def f_to_c(f: float) -> float:\n",
    "    return 5 * (f - 32) / 9\n",
    "\n",
    "def c_to_f(c: float) -> float:\n",
    "    return 9 * c / 5 + 32"
   ]
  },
  {
   "cell_type": "code",
   "execution_count": 4,
   "id": "cf48c442-0172-440e-a934-c16bbb3756f3",
   "metadata": {},
   "outputs": [
    {
     "data": {
      "text/plain": [
       "37.77777777777778"
      ]
     },
     "execution_count": 4,
     "metadata": {},
     "output_type": "execute_result"
    }
   ],
   "source": [
    "f_to_c(100)"
   ]
  },
  {
   "cell_type": "code",
   "execution_count": null,
   "id": "d1c028da-5249-45d5-9275-b29354884e6b",
   "metadata": {},
   "outputs": [],
   "source": []
  }
 ],
 "metadata": {
  "kernelspec": {
   "display_name": "Python 3",
   "language": "python",
   "name": "python3"
  },
  "language_info": {
   "codemirror_mode": {
    "name": "ipython",
    "version": 3
   },
   "file_extension": ".py",
   "mimetype": "text/x-python",
   "name": "python",
   "nbconvert_exporter": "python",
   "pygments_lexer": "ipython3",
   "version": "3.8.8"
  }
 },
 "nbformat": 4,
 "nbformat_minor": 5
}
