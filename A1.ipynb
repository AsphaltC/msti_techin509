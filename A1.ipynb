{
 "cells": [
  {
   "cell_type": "markdown",
   "id": "6c0b1309-7af7-4361-961b-c25f7c94c51d",
   "metadata": {},
   "source": [
    "# [TECHIN509] Week 1: In-Class Assignment Notebook Submission\n",
    "\n",
    "* Author: Cheng-Hsi (Ian) Yang\n",
    "* Student ID: 2220015\n",
    "* Email: ianyang@uw.edu"
   ]
  },
  {
   "cell_type": "markdown",
   "id": "7d7bf0ce-82c4-44d4-a2c6-b2689f12dd0b",
   "metadata": {},
   "source": [
    "## Inspiration\n",
    "As a foreign student that has never lived the American life, there has been a lot to take in ever since my arrival in late September. In particular, the ***imperial system of units*** has been more than difficult to cope with personally. I have decided to use this opportunity to familiarize myself with it. Hopefully, by walking through most that people use in their daily lives with functions, I will have less of a headache judging if it is a good deal next time I go for grocers."
   ]
  },
  {
   "cell_type": "markdown",
   "id": "59ea3761-c04f-4260-a5cc-cc0c72981172",
   "metadata": {},
   "source": [
    "## Weight Units\n",
    "1. An ounce (oz) is 1/16 pound. It is now connected with the metric system, and is defined as *28.349523125*g\n",
    "2. A pound (lb) is also now connected with the metric system, and is definted *0.45359237*kg\n",
    "3. It is worth noting that a ton (t) is different from the metric tonne, though very close in weight.\n",
    "\n",
    "The most common problem that I encounter is the unit transfer from kilogram to pound, which can be done through the following function:"
   ]
  },
  {
   "cell_type": "code",
   "execution_count": 5,
   "id": "3cf27cd8-4cdc-48f5-8b49-fef03ef09263",
   "metadata": {},
   "outputs": [],
   "source": [
    "def kg_to_lb (kg_value: float) -> float:\n",
    "    return round(kg_value / 0.45359237, 2)\n",
    "\n",
    "def lb_to_kg (lb_value: float) -> float:\n",
    "    return round(lb_value * 0.45359237, 2)"
   ]
  },
  {
   "cell_type": "markdown",
   "id": "b39bfa87-80f5-4903-a34c-74ce7ab39d40",
   "metadata": {},
   "source": [
    "The functions produce the value in pound, and round the result to *two* decimal places for a better viewing experience. For example, now we can look up the profile of Lebron James ([link](https://www.nba.com/player/2544/lebron-james)) on the NBA's website. His weight is recorded as 250lb. we can verify our program by doing the following:"
   ]
  },
  {
   "cell_type": "code",
   "execution_count": 7,
   "id": "16960da4-a086-43ae-bf1d-f641bbc4c2e9",
   "metadata": {},
   "outputs": [
    {
     "name": "stdout",
     "output_type": "stream",
     "text": [
      "Lebron James weights 113.4 kilograms\n"
     ]
    }
   ],
   "source": [
    "print(\"Lebron James weights \" + str(lb_to_kg(250))+ \" kilograms\")"
   ]
  },
  {
   "cell_type": "markdown",
   "id": "472b0ad3-032b-470d-b34e-ba79ece304d6",
   "metadata": {},
   "source": [
    "## Length Units"
   ]
  },
  {
   "cell_type": "markdown",
   "id": "aa71fbbd-a24a-4d02-a470-ee991d80e457",
   "metadata": {},
   "source": [
    "The basis of length units seems to be *feet*. These are the common units that I was exposed to:\n",
    "1. An inch (in) is 1/12 feet, which has been connected to metric system and defined *0.0254* meters (*2.54*cm).\n",
    "2. A foot (ft) is now connected to the metric system and defined as 0.3048 meters (*30.48*cm).\n",
    "3. A yard (yd) is 3 feet.\n",
    "4. A mile (mi) is 5280 feet, which is *1609.344* meters.\n",
    "\n",
    "Here, I have produced the function to transfer height in metric system to imperial, and vice vers:"
   ]
  },
  {
   "cell_type": "code",
   "execution_count": 21,
   "id": "d6d15b36-19b1-4a73-bb40-5559ed92bdc8",
   "metadata": {},
   "outputs": [],
   "source": [
    "def imperial_height (cm: float) -> (int, int):\n",
    "    feet = cm // 30.48\n",
    "    inch = cm % 30.48 // 2.54\n",
    "    return int(feet), int(inch)\n",
    "\n",
    "def metric_height (feet: int, inch: int) -> float:\n",
    "    return round(feet * 30.48 + inch * 2.54, 2)"
   ]
  },
  {
   "cell_type": "markdown",
   "id": "d68317a4-1e18-40b1-9f22-4082a2c11e3c",
   "metadata": {},
   "source": [
    "Taking Lebron James as an example again, he stands a whopping 206 centimeters in height. This should be:"
   ]
  },
  {
   "cell_type": "code",
   "execution_count": 19,
   "id": "d1b20e5b-f3da-447b-8062-4dffb3e1e6f0",
   "metadata": {},
   "outputs": [
    {
     "name": "stdout",
     "output_type": "stream",
     "text": [
      "6 feet, 9inches\n"
     ]
    }
   ],
   "source": [
    "print(str(imperial_height(206)[0]) + \" feet, \" + str (imperial_height(206)[1]) + \"inches\")"
   ]
  },
  {
   "cell_type": "markdown",
   "id": "ba883593-548f-41af-ad8e-552cf8d957c1",
   "metadata": {},
   "source": [
    "The process can be done in reverse"
   ]
  },
  {
   "cell_type": "code",
   "execution_count": 22,
   "id": "f2c5090e-4cfc-42f9-afe6-948c37d7b1e3",
   "metadata": {},
   "outputs": [
    {
     "data": {
      "text/plain": [
       "205.74"
      ]
     },
     "execution_count": 22,
     "metadata": {},
     "output_type": "execute_result"
    }
   ],
   "source": []
  },
  {
   "cell_type": "code",
   "execution_count": null,
   "id": "1965075b-2ade-4cbf-af5e-ac2738fc4010",
   "metadata": {},
   "outputs": [],
   "source": []
  }
 ],
 "metadata": {
  "kernelspec": {
   "display_name": "Python 3",
   "language": "python",
   "name": "python3"
  },
  "language_info": {
   "codemirror_mode": {
    "name": "ipython",
    "version": 3
   },
   "file_extension": ".py",
   "mimetype": "text/x-python",
   "name": "python",
   "nbconvert_exporter": "python",
   "pygments_lexer": "ipython3",
   "version": "3.8.8"
  }
 },
 "nbformat": 4,
 "nbformat_minor": 5
}
