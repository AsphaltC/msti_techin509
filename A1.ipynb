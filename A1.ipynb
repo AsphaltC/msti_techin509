{
 "cells": [
  {
   "cell_type": "markdown",
   "id": "6c0b1309-7af7-4361-961b-c25f7c94c51d",
   "metadata": {},
   "source": [
    "# [TECHIN509] Week 1: In-Class Assignment Notebook Submission\n",
    "\n",
    "* Author: Cheng-Hsi (Ian) Yang\n",
    "* Student ID: 2220015\n",
    "* Email: ianyang@uw.edu"
   ]
  },
  {
   "cell_type": "markdown",
   "id": "7d7bf0ce-82c4-44d4-a2c6-b2689f12dd0b",
   "metadata": {},
   "source": [
    "## Inspiration\n",
    "As a foreign student that has never lived the American life, there has been a lot to take in ever since my arrival in late September. In particular, the ***imperial system of units*** has been more than difficult to cope with personally. I have decided to use this opportunity to familiarize myself with it. Hopefully, by walking through most that people use in their daily lives with functions, I will have less of a headache judging if it is a good deal next time I go for grocers."
   ]
  },
  {
   "cell_type": "markdown",
   "id": "59ea3761-c04f-4260-a5cc-cc0c72981172",
   "metadata": {},
   "source": [
    "## Weight Units\n",
    "1. An ounce (oz) is 1/16 pound. It is now connected with the metric system, and is defined as *28.349523125* g\n",
    "2. A pound (lb) is also now connected with the metric system, and is definted *0.45359237* kg\n",
    "3. It is worth noting that a ton (t) is different from the metric tonne, though very close in weight.\n",
    "\n",
    "The most common problem that I encounter is the unit transfer from kilogram to pound, which can be done through the following function:"
   ]
  },
  {
   "cell_type": "code",
   "execution_count": 5,
   "id": "3cf27cd8-4cdc-48f5-8b49-fef03ef09263",
   "metadata": {},
   "outputs": [],
   "source": [
    "def kg2lb (kg_value: float) -> float:\n",
    "    return round(kg_value / 0.45359237, 2)\n",
    "\n",
    "def lb2kg (lb_value: float) -> float:\n",
    "    return round(lb_value * 0.45359237, 2)"
   ]
  },
  {
   "cell_type": "markdown",
   "id": "b39bfa87-80f5-4903-a34c-74ce7ab39d40",
   "metadata": {},
   "source": [
    "The functions produce the value in pound, and round the result to *two* decimal places for a better viewing experience. For example, now we can look up the profile of Lebron James ([link](https://www.nba.com/player/2544/lebron-james)) on the NBA's website. His weight is recorded as 250lb. we can verify our program by doing the following:"
   ]
  },
  {
   "cell_type": "code",
   "execution_count": 7,
   "id": "16960da4-a086-43ae-bf1d-f641bbc4c2e9",
   "metadata": {},
   "outputs": [
    {
     "name": "stdout",
     "output_type": "stream",
     "text": [
      "Lebron James weights 113.4 kilograms\n"
     ]
    }
   ],
   "source": [
    "print(\"Lebron James weights \" + str(lb2kg(250))+ \" kilograms\")"
   ]
  },
  {
   "cell_type": "markdown",
   "id": "472b0ad3-032b-470d-b34e-ba79ece304d6",
   "metadata": {},
   "source": [
    "## Length Units"
   ]
  },
  {
   "cell_type": "code",
   "execution_count": null,
   "id": "aa6a5763-c247-4b64-b1bd-99119f4762a1",
   "metadata": {},
   "outputs": [],
   "source": []
  }
 ],
 "metadata": {
  "kernelspec": {
   "display_name": "Python 3",
   "language": "python",
   "name": "python3"
  },
  "language_info": {
   "codemirror_mode": {
    "name": "ipython",
    "version": 3
   },
   "file_extension": ".py",
   "mimetype": "text/x-python",
   "name": "python",
   "nbconvert_exporter": "python",
   "pygments_lexer": "ipython3",
   "version": "3.8.8"
  }
 },
 "nbformat": 4,
 "nbformat_minor": 5
}
