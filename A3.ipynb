{
 "cells": [
  {
   "cell_type": "markdown",
   "id": "04dd07b4-7307-410e-b46b-d9c94ec3db75",
   "metadata": {},
   "source": [
    "# [TECHIN509] Week 3: Lab Submission\n",
    "\n",
    "* Author: Cheng-Hsi (Ian) Yang\n",
    "* Student ID: 2220015\n",
    "* Email: ianyang@uw.edu"
   ]
  },
  {
   "cell_type": "code",
   "execution_count": null,
   "id": "b9819b05-0783-4466-9553-176182414352",
   "metadata": {},
   "outputs": [],
   "source": []
  }
 ],
 "metadata": {
  "kernelspec": {
   "display_name": "Python 3",
   "language": "python",
   "name": "python3"
  },
  "language_info": {
   "codemirror_mode": {
    "name": "ipython",
    "version": 3
   },
   "file_extension": ".py",
   "mimetype": "text/x-python",
   "name": "python",
   "nbconvert_exporter": "python",
   "pygments_lexer": "ipython3",
   "version": "3.8.8"
  }
 },
 "nbformat": 4,
 "nbformat_minor": 5
}
