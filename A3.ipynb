{
 "cells": [
  {
   "cell_type": "markdown",
   "id": "04dd07b4-7307-410e-b46b-d9c94ec3db75",
   "metadata": {},
   "source": [
    "# [TECHIN509] Week 3: Lab Submission\n",
    "\n",
    "* Author: Cheng-Hsi (Ian) Yang\n",
    "* Student ID: 2220015\n",
    "* Email: ianyang@uw.edu"
   ]
  },
  {
   "cell_type": "markdown",
   "id": "e8f9e5cf-0a52-4d68-9177-813e677c7f7f",
   "metadata": {},
   "source": [
    "## 1. Find The Factorial Of A Given Number"
   ]
  },
  {
   "cell_type": "code",
   "execution_count": 4,
   "id": "512feed9-a365-4e08-9ad2-9dae4aa49129",
   "metadata": {},
   "outputs": [],
   "source": [
    "def fac(n: int) -> int:\n",
    "    if n == 0:\n",
    "        return 1\n",
    "    else:\n",
    "        return n * fac(n - 1)"
   ]
  },
  {
   "cell_type": "code",
   "execution_count": 12,
   "id": "9b3406db-36ae-4b5a-b834-1767b89e9b7f",
   "metadata": {},
   "outputs": [
    {
     "data": {
      "text/plain": [
       "5040"
      ]
     },
     "execution_count": 12,
     "metadata": {},
     "output_type": "execute_result"
    }
   ],
   "source": [
    "fac(7)"
   ]
  },
  {
   "cell_type": "code",
   "execution_count": null,
   "id": "59af3a98-9963-46d6-9610-bdd4093f5789",
   "metadata": {},
   "outputs": [],
   "source": []
  }
 ],
 "metadata": {
  "kernelspec": {
   "display_name": "Python 3",
   "language": "python",
   "name": "python3"
  },
  "language_info": {
   "codemirror_mode": {
    "name": "ipython",
    "version": 3
   },
   "file_extension": ".py",
   "mimetype": "text/x-python",
   "name": "python",
   "nbconvert_exporter": "python",
   "pygments_lexer": "ipython3",
   "version": "3.8.8"
  }
 },
 "nbformat": 4,
 "nbformat_minor": 5
}
