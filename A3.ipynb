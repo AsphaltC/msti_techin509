{
 "cells": [
  {
   "cell_type": "markdown",
   "id": "04dd07b4-7307-410e-b46b-d9c94ec3db75",
   "metadata": {},
   "source": [
    "# [TECHIN509] Week 3: Lab Submission\n",
    "\n",
    "* Author: Cheng-Hsi (Ian) Yang\n",
    "* Student ID: 2220015\n",
    "* Email: ianyang@uw.edu"
   ]
  },
  {
   "cell_type": "markdown",
   "id": "e8f9e5cf-0a52-4d68-9177-813e677c7f7f",
   "metadata": {},
   "source": [
    "## 1. Find The Factorial Of A Given Number"
   ]
  },
  {
   "cell_type": "code",
   "execution_count": 4,
   "id": "512feed9-a365-4e08-9ad2-9dae4aa49129",
   "metadata": {},
   "outputs": [],
   "source": [
    "def fac(n: int) -> int:\n",
    "    if n == 0:\n",
    "        return 1\n",
    "    else:\n",
    "        return n * fac(n - 1)"
   ]
  },
  {
   "cell_type": "markdown",
   "id": "18e37c1a-8d91-462c-bb79-b5e46333bdd5",
   "metadata": {},
   "source": [
    "## 2. Implement A Custom Add Function Given An Increment And A Decrement Function:\n",
    "Using the given inc(x) and dec(x) functions that increment and decrement the given numbers by 1, implement add function without using Python's add operator.<br>\n",
    "It should be assumed that the inputs for this function are positive. "
   ]
  },
  {
   "cell_type": "markdown",
   "id": "ea109a08-3b39-4c82-a04c-b7f8a68c93c9",
   "metadata": {},
   "source": [
    "### 2.1 Bonus: Implement The Above Function For Negative Inputs."
   ]
  },
  {
   "cell_type": "markdown",
   "id": "591b041f-0516-4ada-bf79-5f547bc5811a",
   "metadata": {},
   "source": [
    "## 3. Determine If The Given Year Is A Leap Year"
   ]
  },
  {
   "cell_type": "markdown",
   "id": "f836c9e7-07ca-421d-9253-cbf37e95dba4",
   "metadata": {},
   "source": [
    "## 4. Determine Nth Fibonacci's Number:\n",
    "Given a number `n`, return the nth Fibonacci's number. This is a classic application of recursion in programming.<br>\n",
    "\"In mathematics, the Fibonacci numbers, commonly denoted Fn , form a sequence, the Fibonacci sequence, in which each number is the sum of the two preceding ones.<br>\n",
    "The sequence commonly starts from 0 and 1, although some authors omit the initial terms and start the sequence from 1 and 1 or from 1 and 2.\" [Source: Wikipedia]"
   ]
  },
  {
   "cell_type": "code",
   "execution_count": null,
   "id": "6bdca2bf-3f6e-4145-91c4-c59f4125a77c",
   "metadata": {},
   "outputs": [],
   "source": []
  }
 ],
 "metadata": {
  "kernelspec": {
   "display_name": "Python 3",
   "language": "python",
   "name": "python3"
  },
  "language_info": {
   "codemirror_mode": {
    "name": "ipython",
    "version": 3
   },
   "file_extension": ".py",
   "mimetype": "text/x-python",
   "name": "python",
   "nbconvert_exporter": "python",
   "pygments_lexer": "ipython3",
   "version": "3.8.8"
  }
 },
 "nbformat": 4,
 "nbformat_minor": 5
}
