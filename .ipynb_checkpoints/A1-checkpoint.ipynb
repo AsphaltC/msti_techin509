{
 "cells": [
  {
   "cell_type": "markdown",
   "id": "6c0b1309-7af7-4361-961b-c25f7c94c51d",
   "metadata": {},
   "source": [
    "# TECHIN509: Oct 4th"
   ]
  },
  {
   "cell_type": "code",
   "execution_count": null,
   "id": "41b82db9-be49-4fa0-b47b-f9331fa1b5d4",
   "metadata": {},
   "outputs": [],
   "source": []
  }
 ],
 "metadata": {
  "kernelspec": {
   "display_name": "Python 3",
   "language": "python",
   "name": "python3"
  },
  "language_info": {
   "codemirror_mode": {
    "name": "ipython",
    "version": 3
   },
   "file_extension": ".py",
   "mimetype": "text/x-python",
   "name": "python",
   "nbconvert_exporter": "python",
   "pygments_lexer": "ipython3",
   "version": "3.8.8"
  }
 },
 "nbformat": 4,
 "nbformat_minor": 5
}
